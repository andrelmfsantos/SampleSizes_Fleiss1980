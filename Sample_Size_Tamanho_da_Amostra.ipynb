{
 "cells": [
  {
   "cell_type": "markdown",
   "metadata": {},
   "source": [
    "* ### A Simple Approximation for Calculating Sample Sizes for Comparing Independent Proportions\n",
    "* ### [Aproximação simples para calcular tamanhos de amostra para comparar proporções independentes]"
   ]
  },
  {
   "cell_type": "markdown",
   "metadata": {},
   "source": [
    "\\begin{equation}\n",
    "m = \\frac{m'}{4}\\left[1 + \\sqrt{\\left\\{1 + \\frac{2(r+1)}{rm'\\delta}\\right\\}}\\right]^2\n",
    "\\end{equation}\n",
    "\n",
    "\\begin{equation}\n",
    "m'= \\frac{\\left\\{z_\\alpha\\sqrt{\\{(r+1)\\bar{P}\\bar{Q}\\}} +z_\\beta\\sqrt{(rP_1Q_1+P_2Q_2)}\\right\\}^2}{r\\delta^2},\n",
    "\\end{equation}\n",
    "where:\n",
    "* $\\bar{P} = \\frac{1}{2}(P_1+P_2)$\n",
    "* $Q = 1-P$\n",
    "* $\\delta = |P_2 - P_1|$"
   ]
  },
  {
   "cell_type": "code",
   "execution_count": 113,
   "metadata": {},
   "outputs": [
    {
     "data": {
      "text/html": [
       "47.5176272548773"
      ],
      "text/latex": [
       "47.5176272548773"
      ],
      "text/markdown": [
       "47.5176272548773"
      ],
      "text/plain": [
       "[1] 47.51763"
      ]
     },
     "metadata": {},
     "output_type": "display_data"
    }
   ],
   "source": [
    "# Amostras ----------------------------------------------------------------------------------------\n",
    "m = list()             # tamanho da amostra original da população 1\n",
    "n1 = m                 # tamanho da amostra original da população 1\n",
    "n2 = list()            # tamanho da amostra original da população 2\n",
    "\n",
    "# Parâmetros --------------------------------------------------------------------------------------\n",
    "z_alpha = 1.960        # se 1 - alpha = 0.95, então z_alpha = 1.960 (nível de significância)\n",
    "z_beta = 0.842         # se 1 - beta = 0.80, então z_beta = 0.842  (poder do teste)\n",
    "P1 = 0.792             # proporção de doentes na população 1 (casos)\n",
    "P2 = 0.50              # proporção de doentes na população 2 (controle)\n",
    "B = 0.2                # Beta: chance de não detectar a diferença (cometer o erro tipo 1)\n",
    "n1 = 1                 # mínimo de doentes esperados no grupo caso\n",
    "n2 = 1                 # mínimo de doentes esperados no grupo controle\n",
    "r = n2/n1              # proporção de doentes no grupo controle para cada doente no grupo casos\n",
    "\n",
    "# Cálculos intermediários -------------------------------------------------------------------------\n",
    "P = (P1+r*P2)/(r+1)\n",
    "Q = 1-P\n",
    "Q1 = 1 - P1\n",
    "Q2 = 1 - P2\n",
    "\n",
    "# Cálculo final do tamanho da amostra -------------------------------------------------------------\n",
    "m1 = (z_alpha*sqrt((r+1)*P*Q) + z_beta*sqrt((r*P1*Q1)+(P2*Q2)))^2/(r*(P2 - P1)^2)\n",
    "m = m1/4*(1+sqrt(1 + 2*(r+1)/(m1*r*abs(P2-P1))))^2\n",
    "m"
   ]
  },
  {
   "cell_type": "markdown",
   "metadata": {},
   "source": [
    "* [Fleiss, J. L., Tytun, A., & Ury, H. K. (1980). A Simple Approximation for Calculating Sample Sizes for Comparing Independent Proportions. Biometrics, 36(2), 343. https://doi.org/10.2307/2529990](https://www.jstor.org/stable/2529990?origin=JSTOR-pdf&seq=1)\n",
    "* [LaTex/Mathematics](https://en.wikibooks.org/wiki/LaTeX/Mathematics)\n",
    "* [DOI Citation Formatter](https://citation.crosscite.org/)"
   ]
  }
 ],
 "metadata": {
  "kernelspec": {
   "display_name": "R",
   "language": "R",
   "name": "ir"
  },
  "language_info": {
   "codemirror_mode": "r",
   "file_extension": ".r",
   "mimetype": "text/x-r-source",
   "name": "R",
   "pygments_lexer": "r",
   "version": "3.6.1"
  }
 },
 "nbformat": 4,
 "nbformat_minor": 4
}
